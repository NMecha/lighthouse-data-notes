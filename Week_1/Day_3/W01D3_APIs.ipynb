{
 "cells": [
  {
   "cell_type": "markdown",
   "source": [
    "## Lighthouse Labs\n",
    "### W01D3 APIs\n",
    "Instructor: Socorro Dominguez  \n",
    "September 15, 2021"
   ],
   "metadata": {
    "slideshow": {
     "slide_type": "slide"
    }
   }
  },
  {
   "cell_type": "code",
   "execution_count": null,
   "source": [],
   "outputs": [],
   "metadata": {}
  },
  {
   "cell_type": "markdown",
   "source": [
    "[Download the notebook](https://downgit.github.io/#/home?url=https://github.com/sedv8808/LighthouseLabs/tree/main/W01D3)"
   ],
   "metadata": {}
  },
  {
   "cell_type": "markdown",
   "source": [
    "**Agenda:**\n",
    "* Introductions\n",
    "* Where does our data come from?\n",
    "* APIs\n",
    "    * What is it?\n",
    "    * Applications\n",
    "    * Demo\n",
    "        * Python\n",
    "        * Postman\n",
    "        * Terminal"
   ],
   "metadata": {
    "slideshow": {
     "slide_type": "slide"
    }
   }
  },
  {
   "cell_type": "markdown",
   "source": [
    "Think about where we get our data from..."
   ],
   "metadata": {
    "slideshow": {
     "slide_type": "slide"
    }
   }
  },
  {
   "cell_type": "markdown",
   "source": [
    "- Publicly available datasets (e.g. check out Kaggle)\n",
    "    - Good for benchmarking, but limited for real use-case\n",
    "- Company’s database (e.g. transaction history)\n",
    "    - SQL, MongoDB, etc.\n",
    "- From the web\n",
    "    - Collected manually\n",
    "    - Collected automatically (code)"
   ],
   "metadata": {
    "slideshow": {
     "slide_type": "fragment"
    }
   }
  },
  {
   "cell_type": "markdown",
   "source": [
    "## How is Data Science related to the Web?"
   ],
   "metadata": {
    "slideshow": {
     "slide_type": "slide"
    }
   }
  },
  {
   "cell_type": "markdown",
   "source": [
    "![img](api_img.png)"
   ],
   "metadata": {
    "slideshow": {
     "slide_type": "slide"
    }
   }
  },
  {
   "cell_type": "markdown",
   "source": [
    "![img](xml_img.png)"
   ],
   "metadata": {
    "slideshow": {
     "slide_type": "slide"
    }
   }
  },
  {
   "cell_type": "markdown",
   "source": [
    "### What if we wanted to collect this data for analysis?"
   ],
   "metadata": {
    "slideshow": {
     "slide_type": "slide"
    }
   }
  },
  {
   "cell_type": "markdown",
   "source": [
    "We would need to create a Data Mining program that goes to URLs and parses the HTML to extract data.\n",
    "- Effortful\n",
    "    - HTML is difficult to parse\n",
    "    - Almost all information is irrelevant (e.g. UI-related)\n",
    "    - Websites often require interaction (e.g. “Load More” button)\n",
    "    - When websites update, your code will break\n",
    "    - Every website is different\n",
    "    - Companies try to stop data miners"
   ],
   "metadata": {
    "slideshow": {
     "slide_type": "fragment"
    }
   }
  },
  {
   "cell_type": "markdown",
   "source": [
    "## What is an API?"
   ],
   "metadata": {
    "slideshow": {
     "slide_type": "slide"
    }
   }
  },
  {
   "cell_type": "markdown",
   "source": [
    "**A**pplication  \n",
    "**P**rogramming  \n",
    "**I**nterface  \n",
    "  \n",
    "* We will be mostly using RESTful APIs.   \n",
    "\n",
    "**RE**presentation  \n",
    "**S**tate  \n",
    "**T**ransfer  \n",
    "**C**haracteristics  \n",
    "\n",
    "We will revisit RESTful APIs in Week 7, so try to get just the main concepts today."
   ],
   "metadata": {
    "slideshow": {
     "slide_type": "fragment"
    }
   }
  },
  {
   "cell_type": "markdown",
   "source": [
    "- Programmer-friendly version of websites\n",
    "- Go to a URL composed of\n",
    "    - API root endpoint\n",
    "    - API function\n",
    "    - API key (like a login)\n",
    "    - Parameter keys\n",
    "    - Parameter values\n",
    "    - Returns data (JSON, XML, csv, etc.)"
   ],
   "metadata": {
    "slideshow": {
     "slide_type": "slide"
    }
   }
  },
  {
   "cell_type": "markdown",
   "source": [
    "### Characteristics?\n",
    "\n",
    "Client-server, typically HTTP-based, stateless server\n"
   ],
   "metadata": {
    "slideshow": {
     "slide_type": "slide"
    }
   }
  },
  {
   "cell_type": "markdown",
   "source": [
    "### Furthermore....\n",
    "\n",
    "some web site’s provide direct access to their data. For example: Twitter, Translink, Car2Go, Google Maps, Yahoo\n",
    "\n",
    "* Why would they do this?\n",
    "\n",
    "* Why would some web sites not do this?"
   ],
   "metadata": {
    "slideshow": {
     "slide_type": "slide"
    }
   }
  },
  {
   "cell_type": "markdown",
   "source": [
    "### What representation is DATA found in?"
   ],
   "metadata": {
    "slideshow": {
     "slide_type": "slide"
    }
   }
  },
  {
   "cell_type": "markdown",
   "source": [
    "**J**ava**S**cript **O**bject **N**otation (json)\n",
    "\n",
    "\n",
    "Textual format for structured data  \n",
    "* [a,b,c] for arrays  \n",
    "* {‘x’: m, ‘y’: n, ‘z’: o} for objects"
   ],
   "metadata": {
    "slideshow": {
     "slide_type": "fragment"
    }
   }
  },
  {
   "cell_type": "markdown",
   "source": [
    "### JSON\n",
    "* textual description of python (javascript actually) objects\n",
    "* arrays and dictionaries\n",
    "\n",
    "```\n",
    "{\n",
    "'library': [\n",
    "           {'title': 'For Whom the Bell Tolls', 'author': 'Ernest Hemingway'},\n",
    "           {'title': 'Trump: The Art of the Deal', 'author': 'Good Question'}\n",
    "           ]\n",
    "}\n",
    "```"
   ],
   "metadata": {
    "slideshow": {
     "slide_type": "slide"
    }
   }
  },
  {
   "cell_type": "markdown",
   "source": [
    "### Intro to XML   \n",
    "• hierarchical description of tagged data  \n",
    "\n",
    "```\n",
    "<library>\n",
    "<book>\n",
    "<title>\n",
    "For Whom the Bell Tolls\n",
    "</title>\n",
    "<author>\n",
    "Ernest Hemingway\n",
    "</author>\n",
    "</book>\n",
    "<book>\n",
    "<title>\n",
    "Trump: The Art of the Deal\n",
    "</title>\n",
    "<author>\n",
    "Good Question\n",
    "</author>\n",
    "</book>\n",
    "</library>\n",
    "```"
   ],
   "metadata": {
    "slideshow": {
     "slide_type": "slide"
    }
   }
  },
  {
   "cell_type": "markdown",
   "source": [
    "### Using a Web API\n",
    "\n",
    "Provider defines:\n",
    "* message format for requests and responses\n",
    "* usually in both XML and JSON\n",
    "* registration and authentication\n",
    "* usually using OAuth (delegated authorization framework for REST/APIs. It enables apps to obtain limited access to a user's data without giving away a user's password.)"
   ],
   "metadata": {
    "slideshow": {
     "slide_type": "slide"
    }
   }
  },
  {
   "cell_type": "markdown",
   "source": [
    "Language integration\n",
    "* might be provided or you might have to do it yourself\n",
    "* if provided, usually someone other than data source\n",
    "* library API for various languages like python\n",
    "* you write a python program that calls library procedures\n",
    "* library formats messages, sends them to web provider, translates responses as return values"
   ],
   "metadata": {
    "slideshow": {
     "slide_type": "slide"
    }
   }
  },
  {
   "cell_type": "markdown",
   "source": [
    "### Getting JSON Data\n",
    "\n",
    "We need to select the output format using API:\n",
    "* e.g., http header: accept = application/json\n",
    "\n",
    "\n",
    "View in browser or Postman\n",
    "* good for exploration / debugging\n",
    "\n",
    "Use request .get\n",
    "* this returns a python array or dictionary\n",
    "\n",
    "Get a string and parse\n",
    "* import json\n",
    "* x = json .loads(aJSONString)"
   ],
   "metadata": {
    "slideshow": {
     "slide_type": "slide"
    }
   }
  },
  {
   "cell_type": "markdown",
   "source": [
    "## Demo with Translink and Github"
   ],
   "metadata": {
    "slideshow": {
     "slide_type": "slide"
    }
   }
  },
  {
   "cell_type": "markdown",
   "source": [
    "Get your own API token from developer.translink.ca !  \n",
    " ``` Close slideshow mode```"
   ],
   "metadata": {
    "slideshow": {
     "slide_type": "fragment"
    }
   }
  },
  {
   "cell_type": "markdown",
   "source": [
    "Hint: If you are on Chrome, use the JSON formatter extension."
   ],
   "metadata": {
    "slideshow": {
     "slide_type": "slide"
    }
   }
  },
  {
   "cell_type": "code",
   "execution_count": 1,
   "source": [
    "import requests\n",
    "import config as cfg\n",
    "\n",
    "# Get your own API token from developer.translink.ca\n",
    "\n",
    "apikey = cfg.translink['key']\n",
    "\n",
    "#In the Walkthrough, you will learn how to hide your API keys using Environmental Variables.\n",
    "\n",
    "requests.get('http://api.translink.ca/rttiapi/v1/stops/61935/estimates?apikey={}'.format(apikey),headers={'accept': 'application/JSON'}).json()\n",
    "\n"
   ],
   "outputs": [
    {
     "output_type": "execute_result",
     "data": {
      "text/plain": [
       "[{'RouteNo': '099',\n",
       "  'RouteName': 'COMMERCIAL-BROADWAY/UBC (B-LINE)',\n",
       "  'Direction': 'EAST',\n",
       "  'RouteMap': {'Href': 'https://nb.translink.ca/geodata/099.kmz'},\n",
       "  'Schedules': [{'Pattern': 'E8FL2',\n",
       "    'Destination': 'TO BOUNDARY B-LINE',\n",
       "    'ExpectedLeaveTime': '9:35am',\n",
       "    'ExpectedCountdown': 0,\n",
       "    'ScheduleStatus': ' ',\n",
       "    'CancelledTrip': False,\n",
       "    'CancelledStop': False,\n",
       "    'AddedTrip': False,\n",
       "    'AddedStop': False,\n",
       "    'LastUpdate': '09:16:41 am'},\n",
       "   {'Pattern': 'E1',\n",
       "    'Destination': \"COMM'L-BDWAY STN\",\n",
       "    'ExpectedLeaveTime': '9:36am',\n",
       "    'ExpectedCountdown': 1,\n",
       "    'ScheduleStatus': '*',\n",
       "    'CancelledTrip': False,\n",
       "    'CancelledStop': False,\n",
       "    'AddedTrip': False,\n",
       "    'AddedStop': False,\n",
       "    'LastUpdate': '08:36:02 am'},\n",
       "   {'Pattern': 'E1',\n",
       "    'Destination': \"COMM'L-BDWAY STN\",\n",
       "    'ExpectedLeaveTime': '9:40am',\n",
       "    'ExpectedCountdown': 5,\n",
       "    'ScheduleStatus': '*',\n",
       "    'CancelledTrip': False,\n",
       "    'CancelledStop': False,\n",
       "    'AddedTrip': False,\n",
       "    'AddedStop': False,\n",
       "    'LastUpdate': '08:40:29 am'},\n",
       "   {'Pattern': 'E1',\n",
       "    'Destination': \"COMM'L-BDWAY STN\",\n",
       "    'ExpectedLeaveTime': '9:43am',\n",
       "    'ExpectedCountdown': 8,\n",
       "    'ScheduleStatus': '*',\n",
       "    'CancelledTrip': False,\n",
       "    'CancelledStop': False,\n",
       "    'AddedTrip': False,\n",
       "    'AddedStop': False,\n",
       "    'LastUpdate': '08:43:09 am'},\n",
       "   {'Pattern': 'E8FL2',\n",
       "    'Destination': 'TO BOUNDARY B-LINE',\n",
       "    'ExpectedLeaveTime': '9:47am',\n",
       "    'ExpectedCountdown': 12,\n",
       "    'ScheduleStatus': '*',\n",
       "    'CancelledTrip': False,\n",
       "    'CancelledStop': False,\n",
       "    'AddedTrip': False,\n",
       "    'AddedStop': False,\n",
       "    'LastUpdate': '08:47:04 am'},\n",
       "   {'Pattern': 'E1',\n",
       "    'Destination': \"COMM'L-BDWAY STN\",\n",
       "    'ExpectedLeaveTime': '9:49am',\n",
       "    'ExpectedCountdown': 14,\n",
       "    'ScheduleStatus': '*',\n",
       "    'CancelledTrip': False,\n",
       "    'CancelledStop': False,\n",
       "    'AddedTrip': False,\n",
       "    'AddedStop': False,\n",
       "    'LastUpdate': '08:49:19 am'}]}]"
      ]
     },
     "metadata": {},
     "execution_count": 1
    }
   ],
   "metadata": {
    "slideshow": {
     "slide_type": "fragment"
    }
   }
  },
  {
   "cell_type": "code",
   "execution_count": 2,
   "source": [
    "from IPython.display import JSON\n",
    "request_url = 'https://api.translink.ca/rttiapi/v1/stops?apikey={}&lat={}&long={}'.format(apikey, 49.18, -122.85)\n",
    "response = requests.get(request_url, headers={'accept': 'application/JSON'}).json()\n",
    "JSON(response)\n",
    "\n"
   ],
   "outputs": [
    {
     "output_type": "execute_result",
     "data": {
      "text/plain": [
       "<IPython.core.display.JSON object>"
      ],
      "application/vnd.code.notebook.error": {
       "name": "TypeError",
       "message": "r.endsWith is not a function",
       "stack": "TypeError: r.endsWith is not a function\n\tat d (/private/var/folders/7x/rv5qh3n17k96wy96sc3ww6080000gn/T/AppTranslocation/C4DB7D4B-F8A0-4BE2-9CCF-DFBBC95A0C7A/d/Visual Studio Code.app/Contents/Resources/app/extensions/ipynb/dist/ipynbMain.js:1:138413)\n\tat i (/private/var/folders/7x/rv5qh3n17k96wy96sc3ww6080000gn/T/AppTranslocation/C4DB7D4B-F8A0-4BE2-9CCF-DFBBC95A0C7A/d/Visual Studio Code.app/Contents/Resources/app/extensions/ipynb/dist/ipynbMain.js:1:139049)\n\tat b (/private/var/folders/7x/rv5qh3n17k96wy96sc3ww6080000gn/T/AppTranslocation/C4DB7D4B-F8A0-4BE2-9CCF-DFBBC95A0C7A/d/Visual Studio Code.app/Contents/Resources/app/extensions/ipynb/dist/ipynbMain.js:1:143666)\n\tat _ (/private/var/folders/7x/rv5qh3n17k96wy96sc3ww6080000gn/T/AppTranslocation/C4DB7D4B-F8A0-4BE2-9CCF-DFBBC95A0C7A/d/Visual Studio Code.app/Contents/Resources/app/extensions/ipynb/dist/ipynbMain.js:1:143962)\n\tat Array.map (<anonymous>)\n\tat /private/var/folders/7x/rv5qh3n17k96wy96sc3ww6080000gn/T/AppTranslocation/C4DB7D4B-F8A0-4BE2-9CCF-DFBBC95A0C7A/d/Visual Studio Code.app/Contents/Resources/app/extensions/ipynb/dist/ipynbMain.js:1:145114\n\tat /private/var/folders/7x/rv5qh3n17k96wy96sc3ww6080000gn/T/AppTranslocation/C4DB7D4B-F8A0-4BE2-9CCF-DFBBC95A0C7A/d/Visual Studio Code.app/Contents/Resources/app/extensions/ipynb/dist/ipynbMain.js:1:145356\n\tat /private/var/folders/7x/rv5qh3n17k96wy96sc3ww6080000gn/T/AppTranslocation/C4DB7D4B-F8A0-4BE2-9CCF-DFBBC95A0C7A/d/Visual Studio Code.app/Contents/Resources/app/extensions/ipynb/dist/ipynbMain.js:1:145363\n\tat Array.map (<anonymous>)\n\tat e.jupyterNotebookModelToNotebookData (/private/var/folders/7x/rv5qh3n17k96wy96sc3ww6080000gn/T/AppTranslocation/C4DB7D4B-F8A0-4BE2-9CCF-DFBBC95A0C7A/d/Visual Studio Code.app/Contents/Resources/app/extensions/ipynb/dist/ipynbMain.js:1:144672)\n\tat e.NotebookSerializer.deserializeNotebook (/private/var/folders/7x/rv5qh3n17k96wy96sc3ww6080000gn/T/AppTranslocation/C4DB7D4B-F8A0-4BE2-9CCF-DFBBC95A0C7A/d/Visual Studio Code.app/Contents/Resources/app/extensions/ipynb/dist/ipynbMain.js:1:146599)\n\tat _.$dataToNotebook (/private/var/folders/7x/rv5qh3n17k96wy96sc3ww6080000gn/T/AppTranslocation/C4DB7D4B-F8A0-4BE2-9CCF-DFBBC95A0C7A/d/Visual Studio Code.app/Contents/Resources/app/out/vs/workbench/services/extensions/node/extensionHostProcess.js:85:211988)\n\tat h._doInvokeHandler (/private/var/folders/7x/rv5qh3n17k96wy96sc3ww6080000gn/T/AppTranslocation/C4DB7D4B-F8A0-4BE2-9CCF-DFBBC95A0C7A/d/Visual Studio Code.app/Contents/Resources/app/out/vs/workbench/services/extensions/node/extensionHostProcess.js:89:12819)\n\tat h._invokeHandler (/private/var/folders/7x/rv5qh3n17k96wy96sc3ww6080000gn/T/AppTranslocation/C4DB7D4B-F8A0-4BE2-9CCF-DFBBC95A0C7A/d/Visual Studio Code.app/Contents/Resources/app/out/vs/workbench/services/extensions/node/extensionHostProcess.js:89:12503)\n\tat h._receiveRequest (/private/var/folders/7x/rv5qh3n17k96wy96sc3ww6080000gn/T/AppTranslocation/C4DB7D4B-F8A0-4BE2-9CCF-DFBBC95A0C7A/d/Visual Studio Code.app/Contents/Resources/app/out/vs/workbench/services/extensions/node/extensionHostProcess.js:89:11107)\n\tat h._receiveOneMessage (/private/var/folders/7x/rv5qh3n17k96wy96sc3ww6080000gn/T/AppTranslocation/C4DB7D4B-F8A0-4BE2-9CCF-DFBBC95A0C7A/d/Visual Studio Code.app/Contents/Resources/app/out/vs/workbench/services/extensions/node/extensionHostProcess.js:89:10142)\n\tat /private/var/folders/7x/rv5qh3n17k96wy96sc3ww6080000gn/T/AppTranslocation/C4DB7D4B-F8A0-4BE2-9CCF-DFBBC95A0C7A/d/Visual Studio Code.app/Contents/Resources/app/out/vs/workbench/services/extensions/node/extensionHostProcess.js:89:8039\n\tat d.fire (/private/var/folders/7x/rv5qh3n17k96wy96sc3ww6080000gn/T/AppTranslocation/C4DB7D4B-F8A0-4BE2-9CCF-DFBBC95A0C7A/d/Visual Studio Code.app/Contents/Resources/app/out/vs/workbench/services/extensions/node/extensionHostProcess.js:57:1712)\n\tat c.fire (/private/var/folders/7x/rv5qh3n17k96wy96sc3ww6080000gn/T/AppTranslocation/C4DB7D4B-F8A0-4BE2-9CCF-DFBBC95A0C7A/d/Visual Studio Code.app/Contents/Resources/app/out/vs/workbench/services/extensions/node/extensionHostProcess.js:65:15825)\n\tat /private/var/folders/7x/rv5qh3n17k96wy96sc3ww6080000gn/T/AppTranslocation/C4DB7D4B-F8A0-4BE2-9CCF-DFBBC95A0C7A/d/Visual Studio Code.app/Contents/Resources/app/out/vs/workbench/services/extensions/node/extensionHostProcess.js:104:30060\n\tat d.fire (/private/var/folders/7x/rv5qh3n17k96wy96sc3ww6080000gn/T/AppTranslocation/C4DB7D4B-F8A0-4BE2-9CCF-DFBBC95A0C7A/d/Visual Studio Code.app/Contents/Resources/app/out/vs/workbench/services/extensions/node/extensionHostProcess.js:57:1712)\n\tat c.fire (/private/var/folders/7x/rv5qh3n17k96wy96sc3ww6080000gn/T/AppTranslocation/C4DB7D4B-F8A0-4BE2-9CCF-DFBBC95A0C7A/d/Visual Studio Code.app/Contents/Resources/app/out/vs/workbench/services/extensions/node/extensionHostProcess.js:65:15825)\n\tat r._receiveMessage (/private/var/folders/7x/rv5qh3n17k96wy96sc3ww6080000gn/T/AppTranslocation/C4DB7D4B-F8A0-4BE2-9CCF-DFBBC95A0C7A/d/Visual Studio Code.app/Contents/Resources/app/out/vs/workbench/services/extensions/node/extensionHostProcess.js:65:21091)\n\tat /private/var/folders/7x/rv5qh3n17k96wy96sc3ww6080000gn/T/AppTranslocation/C4DB7D4B-F8A0-4BE2-9CCF-DFBBC95A0C7A/d/Visual Studio Code.app/Contents/Resources/app/out/vs/workbench/services/extensions/node/extensionHostProcess.js:65:17969\n\tat d.fire (/private/var/folders/7x/rv5qh3n17k96wy96sc3ww6080000gn/T/AppTranslocation/C4DB7D4B-F8A0-4BE2-9CCF-DFBBC95A0C7A/d/Visual Studio Code.app/Contents/Resources/app/out/vs/workbench/services/extensions/node/extensionHostProcess.js:57:1712)\n\tat v.acceptChunk (/private/var/folders/7x/rv5qh3n17k96wy96sc3ww6080000gn/T/AppTranslocation/C4DB7D4B-F8A0-4BE2-9CCF-DFBBC95A0C7A/d/Visual Studio Code.app/Contents/Resources/app/out/vs/workbench/services/extensions/node/extensionHostProcess.js:65:13186)\n\tat /private/var/folders/7x/rv5qh3n17k96wy96sc3ww6080000gn/T/AppTranslocation/C4DB7D4B-F8A0-4BE2-9CCF-DFBBC95A0C7A/d/Visual Studio Code.app/Contents/Resources/app/out/vs/workbench/services/extensions/node/extensionHostProcess.js:65:12534\n\tat Socket.w (/private/var/folders/7x/rv5qh3n17k96wy96sc3ww6080000gn/T/AppTranslocation/C4DB7D4B-F8A0-4BE2-9CCF-DFBBC95A0C7A/d/Visual Studio Code.app/Contents/Resources/app/out/vs/workbench/services/extensions/node/extensionHostProcess.js:104:13218)\n\tat Socket.emit (events.js:315:20)\n\tat addChunk (internal/streams/readable.js:309:12)\n\tat readableAddChunk (internal/streams/readable.js:284:9)\n\tat Socket.Readable.push (internal/streams/readable.js:223:10)\n\tat Pipe.onStreamRead (internal/stream_base_commons.js:188:23)"
      }
     },
     "metadata": {
      "application/json": {
       "expanded": false,
       "root": "root"
      }
     },
     "execution_count": 2
    }
   ],
   "metadata": {
    "scrolled": true,
    "slideshow": {
     "slide_type": "slide"
    }
   }
  },
  {
   "cell_type": "code",
   "execution_count": 3,
   "source": [
    "response"
   ],
   "outputs": [
    {
     "output_type": "execute_result",
     "data": {
      "text/plain": [
       "[{'StopNo': 54997,\n",
       "  'Name': 'SB KING GEORGE BLVD FS 98 AVE',\n",
       "  'BayNo': 'N',\n",
       "  'City': 'SURREY',\n",
       "  'OnStreet': 'KING GEORGE BLVD',\n",
       "  'AtStreet': '98 AVE',\n",
       "  'Latitude': 49.179601,\n",
       "  'Longitude': -122.845814,\n",
       "  'WheelchairAccess': 1,\n",
       "  'Distance': 307,\n",
       "  'Routes': '314, 321, 329'},\n",
       " {'StopNo': 54986,\n",
       "  'Name': 'EB 96 AVE FS 134 ST',\n",
       "  'BayNo': 'N',\n",
       "  'City': 'SURREY',\n",
       "  'OnStreet': '96 AVE',\n",
       "  'AtStreet': '134 ST',\n",
       "  'Latitude': 49.176992,\n",
       "  'Longitude': -122.850709,\n",
       "  'WheelchairAccess': 0,\n",
       "  'Distance': 338,\n",
       "  'Routes': '314, 329'},\n",
       " {'StopNo': 54999,\n",
       "  'Name': 'WB 96 AVE FS 134 ST',\n",
       "  'BayNo': 'N',\n",
       "  'City': 'SURREY',\n",
       "  'OnStreet': '96 AVE',\n",
       "  'AtStreet': '134 ST',\n",
       "  'Latitude': 49.177159,\n",
       "  'Longitude': -122.851794,\n",
       "  'WheelchairAccess': 0,\n",
       "  'Distance': 342,\n",
       "  'Routes': '314, 329'},\n",
       " {'StopNo': 54989,\n",
       "  'Name': 'NB KING GEORGE BLVD FS FRASER HWY',\n",
       "  'BayNo': 'N',\n",
       "  'City': 'SURREY',\n",
       "  'OnStreet': 'KING GEORGE BLVD',\n",
       "  'AtStreet': 'FRASER HWY',\n",
       "  'Latitude': 49.181116,\n",
       "  'Longitude': -122.845247,\n",
       "  'WheelchairAccess': 1,\n",
       "  'Distance': 367,\n",
       "  'Routes': ''},\n",
       " {'StopNo': 54998,\n",
       "  'Name': 'WB 96 AVE FS KING GEORGE BLVD',\n",
       "  'BayNo': 'N',\n",
       "  'City': 'SURREY',\n",
       "  'OnStreet': '96 AVE',\n",
       "  'AtStreet': 'KING GEORGE BLVD',\n",
       "  'Latitude': 49.177135,\n",
       "  'Longitude': -122.847002,\n",
       "  'WheelchairAccess': 1,\n",
       "  'Distance': 386,\n",
       "  'Routes': '314, 329'},\n",
       " {'StopNo': 54988,\n",
       "  'Name': 'NB KING GEORGE BLVD FS 96 AVE',\n",
       "  'BayNo': 'N',\n",
       "  'City': 'SURREY',\n",
       "  'OnStreet': 'KING GEORGE BLVD',\n",
       "  'AtStreet': '96 AVE',\n",
       "  'Latitude': 49.177621,\n",
       "  'Longitude': -122.845422,\n",
       "  'WheelchairAccess': 1,\n",
       "  'Distance': 425,\n",
       "  'Routes': '314, 321, 326, 329, 394, R1'},\n",
       " {'StopNo': 59339,\n",
       "  'Name': 'KING GEORGE STN BAY 4',\n",
       "  'BayNo': '4',\n",
       "  'City': 'SURREY',\n",
       "  'OnStreet': 'KING GEORGE STN',\n",
       "  'AtStreet': 'BAY 4',\n",
       "  'Latitude': 49.182677,\n",
       "  'Longitude': -122.845166,\n",
       "  'WheelchairAccess': 1,\n",
       "  'Distance': 460,\n",
       "  'Routes': '314, 321, 326, 329, 502, 503, R1'},\n",
       " {'StopNo': 54996,\n",
       "  'Name': 'KING GEORGE STN BAY 1     ',\n",
       "  'BayNo': '1',\n",
       "  'City': 'SURREY',\n",
       "  'OnStreet': 'KING GEORGE STN',\n",
       "  'AtStreet': 'BAY 1',\n",
       "  'Latitude': 49.183201,\n",
       "  'Longitude': -122.845706,\n",
       "  'WheelchairAccess': 1,\n",
       "  'Distance': 473,\n",
       "  'Routes': '314, 321, 326, 329, R1'},\n",
       " {'StopNo': 57983,\n",
       "  'Name': 'KING GEORGE STATION PLATFORM 2',\n",
       "  'BayNo': 'N',\n",
       "  'City': 'SURREY',\n",
       "  'OnStreet': 'KING GEORGE STATION',\n",
       "  'AtStreet': 'PLATFORM 2',\n",
       "  'Latitude': 49.182755,\n",
       "  'Longitude': -122.844744,\n",
       "  'WheelchairAccess': 0,\n",
       "  'Distance': 490,\n",
       "  'Routes': ''},\n",
       " {'StopNo': 55665,\n",
       "  'Name': 'NB 132 ST NS 98 AVE',\n",
       "  'BayNo': 'N',\n",
       "  'City': 'SURREY',\n",
       "  'OnStreet': '132 ST',\n",
       "  'AtStreet': '98 AVE',\n",
       "  'Latitude': 49.181077,\n",
       "  'Longitude': -122.856552,\n",
       "  'WheelchairAccess': 1,\n",
       "  'Distance': 491,\n",
       "  'Routes': '324'},\n",
       " {'StopNo': 55669,\n",
       "  'Name': 'SB 132 ST FS 98 AVE',\n",
       "  'BayNo': 'N',\n",
       "  'City': 'SURREY',\n",
       "  'OnStreet': '132 ST',\n",
       "  'AtStreet': '98 AVE',\n",
       "  'Latitude': 49.180401,\n",
       "  'Longitude': -122.856803,\n",
       "  'WheelchairAccess': 0,\n",
       "  'Distance': 496,\n",
       "  'Routes': '324'},\n",
       " {'StopNo': 54990,\n",
       "  'Name': 'KING GEORGE STN BAY 2',\n",
       "  'BayNo': '2',\n",
       "  'City': 'SURREY',\n",
       "  'OnStreet': 'KING GEORGE STN',\n",
       "  'AtStreet': 'BAY 2',\n",
       "  'Latitude': 49.183124,\n",
       "  'Longitude': -122.845136,\n",
       "  'WheelchairAccess': 1,\n",
       "  'Distance': 496,\n",
       "  'Routes': '345, 394'},\n",
       " {'StopNo': 57984,\n",
       "  'Name': 'KING GEORGE STATION PLATFORM 1',\n",
       "  'BayNo': 'N',\n",
       "  'City': 'SURREY',\n",
       "  'OnStreet': 'KING GEORGE STATION',\n",
       "  'AtStreet': 'PLATFORM 1',\n",
       "  'Latitude': 49.182812,\n",
       "  'Longitude': -122.844691,\n",
       "  'WheelchairAccess': 0,\n",
       "  'Distance': 497,\n",
       "  'Routes': ''}]"
      ]
     },
     "metadata": {},
     "execution_count": 3
    }
   ],
   "metadata": {}
  },
  {
   "cell_type": "code",
   "execution_count": 4,
   "source": [
    "len(response)"
   ],
   "outputs": [
    {
     "output_type": "execute_result",
     "data": {
      "text/plain": [
       "13"
      ]
     },
     "metadata": {},
     "execution_count": 4
    }
   ],
   "metadata": {}
  },
  {
   "cell_type": "code",
   "execution_count": 5,
   "source": [
    "new_list =[]\n",
    "for i in range(0, len(response)-1):\n",
    "    r = response[i]['StopNo']\n",
    "    new_list.append(r)"
   ],
   "outputs": [],
   "metadata": {}
  },
  {
   "cell_type": "code",
   "execution_count": 6,
   "source": [
    "new_list"
   ],
   "outputs": [
    {
     "output_type": "execute_result",
     "data": {
      "text/plain": [
       "[54997,\n",
       " 54986,\n",
       " 54999,\n",
       " 54989,\n",
       " 54998,\n",
       " 54988,\n",
       " 59339,\n",
       " 54996,\n",
       " 57983,\n",
       " 55665,\n",
       " 55669,\n",
       " 54990]"
      ]
     },
     "metadata": {},
     "execution_count": 6
    }
   ],
   "metadata": {}
  },
  {
   "cell_type": "code",
   "execution_count": 7,
   "source": [
    "new_list = []\n",
    "for i in range(0, len(response)):\n",
    "    new_list.append(response[i]['Name'])"
   ],
   "outputs": [],
   "metadata": {}
  },
  {
   "cell_type": "code",
   "execution_count": 8,
   "source": [
    "new_list"
   ],
   "outputs": [
    {
     "output_type": "execute_result",
     "data": {
      "text/plain": [
       "['SB KING GEORGE BLVD FS 98 AVE',\n",
       " 'EB 96 AVE FS 134 ST',\n",
       " 'WB 96 AVE FS 134 ST',\n",
       " 'NB KING GEORGE BLVD FS FRASER HWY',\n",
       " 'WB 96 AVE FS KING GEORGE BLVD',\n",
       " 'NB KING GEORGE BLVD FS 96 AVE',\n",
       " 'KING GEORGE STN BAY 4',\n",
       " 'KING GEORGE STN BAY 1     ',\n",
       " 'KING GEORGE STATION PLATFORM 2',\n",
       " 'NB 132 ST NS 98 AVE',\n",
       " 'SB 132 ST FS 98 AVE',\n",
       " 'KING GEORGE STN BAY 2',\n",
       " 'KING GEORGE STATION PLATFORM 1']"
      ]
     },
     "metadata": {},
     "execution_count": 8
    }
   ],
   "metadata": {}
  },
  {
   "cell_type": "code",
   "execution_count": 9,
   "source": [
    "response[0]['Name']"
   ],
   "outputs": [
    {
     "output_type": "execute_result",
     "data": {
      "text/plain": [
       "'SB KING GEORGE BLVD FS 98 AVE'"
      ]
     },
     "metadata": {},
     "execution_count": 9
    }
   ],
   "metadata": {
    "slideshow": {
     "slide_type": "fragment"
    }
   }
  },
  {
   "cell_type": "code",
   "execution_count": 10,
   "source": [
    "data = requests.get('https://api.github.com/users/sedv8808',headers={'accept': 'application/JSON'}).json()"
   ],
   "outputs": [],
   "metadata": {
    "scrolled": false,
    "slideshow": {
     "slide_type": "slide"
    }
   }
  },
  {
   "cell_type": "code",
   "execution_count": 11,
   "source": [
    "data"
   ],
   "outputs": [
    {
     "output_type": "execute_result",
     "data": {
      "text/plain": [
       "{'login': 'sedv8808',\n",
       " 'id': 42593920,\n",
       " 'node_id': 'MDQ6VXNlcjQyNTkzOTIw',\n",
       " 'avatar_url': 'https://avatars.githubusercontent.com/u/42593920?v=4',\n",
       " 'gravatar_id': '',\n",
       " 'url': 'https://api.github.com/users/sedv8808',\n",
       " 'html_url': 'https://github.com/sedv8808',\n",
       " 'followers_url': 'https://api.github.com/users/sedv8808/followers',\n",
       " 'following_url': 'https://api.github.com/users/sedv8808/following{/other_user}',\n",
       " 'gists_url': 'https://api.github.com/users/sedv8808/gists{/gist_id}',\n",
       " 'starred_url': 'https://api.github.com/users/sedv8808/starred{/owner}{/repo}',\n",
       " 'subscriptions_url': 'https://api.github.com/users/sedv8808/subscriptions',\n",
       " 'organizations_url': 'https://api.github.com/users/sedv8808/orgs',\n",
       " 'repos_url': 'https://api.github.com/users/sedv8808/repos',\n",
       " 'events_url': 'https://api.github.com/users/sedv8808/events{/privacy}',\n",
       " 'received_events_url': 'https://api.github.com/users/sedv8808/received_events',\n",
       " 'type': 'User',\n",
       " 'site_admin': False,\n",
       " 'name': 'Socorro Dominguez Vidana',\n",
       " 'company': None,\n",
       " 'blog': '',\n",
       " 'location': 'Vancouver, BC',\n",
       " 'email': None,\n",
       " 'hireable': None,\n",
       " 'bio': 'Recent graduate from UBC Master of Data Science. \\r\\nI would like to use my newly acquired skills to make the world a greener place.',\n",
       " 'twitter_username': None,\n",
       " 'public_repos': 22,\n",
       " 'public_gists': 0,\n",
       " 'followers': 9,\n",
       " 'following': 1,\n",
       " 'created_at': '2018-08-22T01:19:27Z',\n",
       " 'updated_at': '2021-09-09T21:00:18Z'}"
      ]
     },
     "metadata": {},
     "execution_count": 11
    }
   ],
   "metadata": {}
  },
  {
   "cell_type": "markdown",
   "source": [
    "## Example on Getting a README from GitHub"
   ],
   "metadata": {
    "slideshow": {
     "slide_type": "slide"
    }
   }
  },
  {
   "cell_type": "code",
   "execution_count": 12,
   "source": [
    "import base64\n",
    "\n",
    "def get_readme(url, token):\n",
    "    '''Document your function'''\n",
    "    url_to_api_endpoint = url.replace('https://github.com/', '')\n",
    "    new_url = 'https://api.github.com/repos/' + url_to_api_endpoint + '/contents/README.md'\n",
    "    headers = {'Authorization': f'token {token}', 'accept': 'application/JSON'}\n",
    "    \n",
    "    try:\n",
    "        readme = requests.get(new_url, headers=headers).json()\n",
    "        readme = readme['content']\n",
    "        readme = base64.b64decode(readme)\n",
    "    except:\n",
    "        readme = \"Missing\"\n",
    "\n",
    "    return readme"
   ],
   "outputs": [],
   "metadata": {
    "slideshow": {
     "slide_type": "slide"
    }
   }
  },
  {
   "cell_type": "code",
   "execution_count": 13,
   "source": [
    "url = 'https://github.com/chrismheiser/lipdnet'\n",
    "token = cfg.github_api['secret']"
   ],
   "outputs": [],
   "metadata": {
    "slideshow": {
     "slide_type": "slide"
    }
   }
  },
  {
   "cell_type": "code",
   "execution_count": 14,
   "source": [
    "get_readme(url = url, token=token)"
   ],
   "outputs": [
    {
     "output_type": "execute_result",
     "data": {
      "text/plain": [
       "b'<h1 align=\"left\">\\n  <br>\\n  <a href=\"http://www.lipd.net\"><img src=\"https://www.dropbox.com/s/kgeyec2b8cft5mo/lipd4.png?raw=1\" alt=\"LiPD\" width=\"225\"></a>\\n</h1>\\n\\n<p align=\"left\">\\n      <a href=\"https://zenodo.org/badge/latestdoi/25707644\"><img src=\"https://zenodo.org/badge/25707644.svg\" alt=\"DOI\"></a>\\n      <a href=\"https://img.shields.io/badge/license-GPL-brightgreen.svg\"><img src=\"https://img.shields.io/badge/license-GPL-brightgreen.svg\"></a>\\n</p>\\n\\nInput/output and manipulation utilities for LiPD files on LiPD.net\\n\\n-----\\n\\n### What is it?\\n\\nLiPD is short for Linked PaleoData. LiPD files are the data standard for storing and exchanging data amongst paleoclimate scientists. The package will help you convert your existing paleoclimate observations into LiPD files that can be shared and analyzed.\\n\\nOrganizing and using your observation data can be time  consuming. Our goal is to let you focus on more important tasks than data wrangling.\\n\\n-----\\n\\n\\n## How to Cite this code\\n\\n<a href=\"https://zenodo.org/badge/latestdoi/25707644\"><img src=\"https://zenodo.org/badge/25707644.svg\" alt=\"DOI\"></a>\\n\\nUse this link to visit the Zenodo website. It provides citation information in many popular formats.\\n\\n------\\n\\n## Further information\\n\\n[Github - LiPD Utilities](https://github.com/nickmckay/LiPD-Utilities)\\n\\n[Github - GeoChronR](https://github.com/nickmckay/GeoChronR)\\n\\n[Linked Earth Wiki](http://wiki.linked.earth/Main_Page)\\n\\n[LiPD.net](http://www.lipd.net)\\n\\n------\\n\\n## Contact\\n\\nIf you are having issues, please report them here on github in the issue tracker.\\n\\n\\n------\\n\\n\\n## License\\n\\nThe project is licensed under the [GNU Public License](https://github.com/nickmckay/LiPD-utilities/blob/master/Python/LICENSE).\\n'"
      ]
     },
     "metadata": {},
     "execution_count": 14
    }
   ],
   "metadata": {
    "slideshow": {
     "slide_type": "slide"
    }
   }
  },
  {
   "cell_type": "markdown",
   "source": [
    "Demo in Postman."
   ],
   "metadata": {
    "slideshow": {
     "slide_type": "slide"
    }
   }
  },
  {
   "cell_type": "markdown",
   "source": [
    "Demo in Terminal uCURL\n",
    "\n",
    "```\n",
    "curl https://api.github.com/users/sedv8808\n",
    "```\n",
    "\n",
    "Viewing in Chrome\n",
    "\n",
    "```\n",
    "https://api.github.com/users/sedv8808\n",
    "```"
   ],
   "metadata": {
    "slideshow": {
     "slide_type": "slide"
    }
   }
  },
  {
   "cell_type": "code",
   "execution_count": 15,
   "source": [
    "!curl https://api.github.com/users/sedv8808"
   ],
   "outputs": [
    {
     "output_type": "stream",
     "name": "stdout",
     "text": [
      "{\r\n",
      "  \"login\": \"sedv8808\",\r\n",
      "  \"id\": 42593920,\r\n",
      "  \"node_id\": \"MDQ6VXNlcjQyNTkzOTIw\",\r\n",
      "  \"avatar_url\": \"https://avatars.githubusercontent.com/u/42593920?v=4\",\r\n",
      "  \"gravatar_id\": \"\",\r\n",
      "  \"url\": \"https://api.github.com/users/sedv8808\",\r\n",
      "  \"html_url\": \"https://github.com/sedv8808\",\r\n",
      "  \"followers_url\": \"https://api.github.com/users/sedv8808/followers\",\r\n",
      "  \"following_url\": \"https://api.github.com/users/sedv8808/following{/other_user}\",\r\n",
      "  \"gists_url\": \"https://api.github.com/users/sedv8808/gists{/gist_id}\",\r\n",
      "  \"starred_url\": \"https://api.github.com/users/sedv8808/starred{/owner}{/repo}\",\r\n",
      "  \"subscriptions_url\": \"https://api.github.com/users/sedv8808/subscriptions\",\r\n",
      "  \"organizations_url\": \"https://api.github.com/users/sedv8808/orgs\",\r\n",
      "  \"repos_url\": \"https://api.github.com/users/sedv8808/repos\",\r\n",
      "  \"events_url\": \"https://api.github.com/users/sedv8808/events{/privacy}\",\r\n",
      "  \"received_events_url\": \"https://api.github.com/users/sedv8808/received_events\",\r\n",
      "  \"type\": \"User\",\r\n",
      "  \"site_admin\": false,\r\n",
      "  \"name\": \"Socorro Dominguez Vidana\",\r\n",
      "  \"company\": null,\r\n",
      "  \"blog\": \"\",\r\n",
      "  \"location\": \"Vancouver, BC\",\r\n",
      "  \"email\": null,\r\n",
      "  \"hireable\": null,\r\n",
      "  \"bio\": \"Recent graduate from UBC Master of Data Science. \\r\\nI would like to use my newly acquired skills to make the world a greener place.\",\r\n",
      "  \"twitter_username\": null,\r\n",
      "  \"public_repos\": 22,\r\n",
      "  \"public_gists\": 0,\r\n",
      "  \"followers\": 9,\r\n",
      "  \"following\": 1,\r\n",
      "  \"created_at\": \"2018-08-22T01:19:27Z\",\r\n",
      "  \"updated_at\": \"2021-09-09T21:00:18Z\"\r\n",
      "}\r\n"
     ]
    }
   ],
   "metadata": {}
  },
  {
   "cell_type": "markdown",
   "source": [
    "You should not forget:\n",
    "- Today we just played aimlessly with APIs, however all APIs have documentation. Read it!\n"
   ],
   "metadata": {
    "slideshow": {
     "slide_type": "slide"
    }
   }
  },
  {
   "cell_type": "markdown",
   "source": [
    "## HTTP Requests\n",
    "- Hypertext Transfer Protocol\n",
    "\n",
    "- When you access a website (through an URL), you are:\n",
    "    - \"sending a HTTP GET request to the server to retrieve data\"\n",
    "    - \"data\" can be a webpage that is displayed, it can be JSON\n"
   ],
   "metadata": {
    "slideshow": {
     "slide_type": "slide"
    }
   }
  },
  {
   "cell_type": "markdown",
   "source": [
    "- When you access a website, you know it worked if it loaded\n",
    "    - Status codes are helpful when you're working with code\n",
    "\n",
    "- Common HTTP status codes:\n",
    "    - 200 OK\n",
    "    - 400 Bad Request\n",
    "    - 401 Unauthorized\n",
    "    - 404 Not Found"
   ],
   "metadata": {
    "slideshow": {
     "slide_type": "slide"
    }
   }
  },
  {
   "cell_type": "code",
   "execution_count": 16,
   "source": [
    "requests.get('https://api.github.com/users/sedv8808')"
   ],
   "outputs": [
    {
     "output_type": "execute_result",
     "data": {
      "text/plain": [
       "<Response [200]>"
      ]
     },
     "metadata": {},
     "execution_count": 16
    }
   ],
   "metadata": {
    "slideshow": {
     "slide_type": "fragment"
    }
   }
  },
  {
   "cell_type": "code",
   "execution_count": 17,
   "source": [
    "requests.get('https://api.translink.ca/rttiapi/v1/stops?lat=49.18&long=-122.85')"
   ],
   "outputs": [
    {
     "output_type": "execute_result",
     "data": {
      "text/plain": [
       "<Response [500]>"
      ]
     },
     "metadata": {},
     "execution_count": 17
    }
   ],
   "metadata": {}
  },
  {
   "cell_type": "markdown",
   "source": [
    "### The Anatomy Of A Request\n",
    "\n",
    "It’s important to know that a request is made up of four things:\n",
    "\n",
    "1. The endpoint\n",
    "\n",
    "2. The method\n",
    "\n",
    "3. The headers\n",
    "\n",
    "4. The data (or body)"
   ],
   "metadata": {
    "slideshow": {
     "slide_type": "slide"
    }
   }
  },
  {
   "cell_type": "markdown",
   "source": [
    "1. The endpoint (or route) is the url you request for\n",
    "\n",
    "root-endpoint/?\n",
    "\n",
    "https://api.github.com\n",
    "\n",
    "2. The Method is the type of request you send to the server. You can choose from these types below:\n",
    "\n",
    "a. GET - Used to get resource from server\n",
    "\n",
    "b. POST - Used to create new resource on server\n",
    "\n",
    "c. PUT/PATCH - update resource on server\n",
    "\n",
    "d. DELETE - delete a resource on the server"
   ],
   "metadata": {
    "slideshow": {
     "slide_type": "slide"
    }
   }
  },
  {
   "cell_type": "code",
   "execution_count": null,
   "source": [],
   "outputs": [],
   "metadata": {}
  }
 ],
 "metadata": {
  "celltoolbar": "Slideshow",
  "kernelspec": {
   "display_name": "Python 3 (ipykernel)",
   "language": "python",
   "name": "python3"
  },
  "language_info": {
   "codemirror_mode": {
    "name": "ipython",
    "version": 3
   },
   "file_extension": ".py",
   "mimetype": "text/x-python",
   "name": "python",
   "nbconvert_exporter": "python",
   "pygments_lexer": "ipython3",
   "version": "3.8.8"
  }
 },
 "nbformat": 4,
 "nbformat_minor": 4
}